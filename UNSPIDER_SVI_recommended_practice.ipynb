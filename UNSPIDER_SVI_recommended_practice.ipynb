{
 "cells": [
  {
   "cell_type": "markdown",
   "metadata": {},
   "source": [
    "## Calculation of the SVI "
   ]
  },
  {
   "cell_type": "markdown",
   "metadata": {},
   "source": [
    "In this example the Standard Vegetation Index (SVI) is calculated from the Enhanced Vegetation Index (EVI) gained from satellite remote sensing. A MODIS vegetation product (MOD13Q1) with a temporal resolution of 16 days and a spatial resolution of 250m is used (https://lpdaac.usgs.gov/dataset_discovery/modis/modis_products_table/mod13q1). "
   ]
  },
  {
   "cell_type": "markdown",
   "metadata": {},
   "source": [
    "Hit `Shift + Enter` or the run button to execute the cells."
   ]
  },
  {
   "cell_type": "markdown",
   "metadata": {},
   "source": [
    "### Download and install Anaconda 3"
   ]
  },
  {
   "cell_type": "markdown",
   "metadata": {},
   "source": [
    "To run this Jupyter Notebook you need python installed on your computer. We recommend to download and install Anaconda 3 (https://www.anaconda.com/download/) with the python 3.6 version as it includes a lot of usefule packages."
   ]
  },
  {
   "cell_type": "markdown",
   "metadata": {},
   "source": [
    "### Download MODIS data as Geotiffs from AppEEARS"
   ]
  },
  {
   "cell_type": "markdown",
   "metadata": {},
   "source": [
    "Access the AppEEARS website and create a user account (free) for USGS in case you do not already have one. Click on __Extract__ and __Area Sample__ and start a new request."
   ]
  },
  {
   "cell_type": "markdown",
   "metadata": {},
   "source": [
    "![](http://www.un-spider.org/sites/default/files/snap1_adj.PNG)"
   ]
  },
  {
   "cell_type": "markdown",
   "metadata": {},
   "source": [
    "1. Enter a request name. \n",
    "2. Define your region of interest by specifying a __ESRI shapefile__ (zip) or drawing a __polygon__. Country shapefiles can be downloaded at http://www.gadm.org/country.  \n",
    "**Note:** The boundaries and names of the shapefiles do not imply official endorsement or acceptance by the United Nations.\n",
    "3. Define the time period of your data: January __2000__ to __today__\n",
    "4. Select the product: __MOD13Q1__ and the layers of interest: __EVI__ and __pixel_reliability__\n",
    "5. Define the output as __Geotiff__ with __geographic Pojection__\n",
    "6. Click on __Submit__"
   ]
  },
  {
   "cell_type": "markdown",
   "metadata": {},
   "source": [
    "![](http://www.un-spider.org/sites/default/files/snap2_adj.PNG)"
   ]
  },
  {
   "cell_type": "markdown",
   "metadata": {},
   "source": [
    "Click on __Explore__ to check the status of the request. When the status says \"Done\" you can click on the __Download__ symbol. __Select all__ ordered datasets and start downloading the data."
   ]
  },
  {
   "cell_type": "markdown",
   "metadata": {},
   "source": [
    "![](http://www.un-spider.org/sites/default/files/snap3_adj_new.PNG)"
   ]
  },
  {
   "cell_type": "markdown",
   "metadata": {},
   "source": [
    "After the download store the files (.tif) in two folders: one folder for the __evi_data__ and one for the __pixel_reliability__.\n",
    "It is reccomended to use an external hard drive to store your input and output data if possible. \n",
    "![](http://www.un-spider.org/sites/default/files/folders.PNG)"
   ]
  },
  {
   "cell_type": "markdown",
   "metadata": {},
   "source": [
    "### Install packages"
   ]
  },
  {
   "cell_type": "markdown",
   "metadata": {},
   "source": [
    "The modul __gdal__ needs to be installed separately and Bigtiffs must be supported. For that reason it is recommended to install gdal from __conda-forge__ (https://conda-forge.org/) as follows:\n",
    "1. Open the __Anaconda Promt__ by searching for it in the windows start menu.\n",
    "2. Type: `conda install -c conda-forge gdal` and hit `Enter`\n",
    "![](http://www.un-spider.org/sites/default/files/gdal_inst.PNG)\n",
    "3. Type `y` if you are asked if you want to proceed.\n",
    "\n",
    "__Optional__: Create a virtual environment and install the package there if you plan to use python for different projects as some packages might interfere with each other. More information can be found __[here](https://github.com/yy/dviz-course/wiki/Create-and-manage-virtual-environments-with-Anaconda)__."
   ]
  },
  {
   "cell_type": "markdown",
   "metadata": {},
   "source": [
    "### Download this notebook and run it using Jupyter Notebook"
   ]
  },
  {
   "cell_type": "markdown",
   "metadata": {},
   "source": [
    "Download the script (.ipynb) __[here](https://drive.google.com/drive/folders/1a3m5EbL2HGkkTLRA5U5V0oUH_J_V1DTT?usp=sharing)__ and save it on your computer. Start Jupyter Notebook by searching for it in the Windows start menu or by typing `jupyter notebook` in the Anaconda Prompt and hitting `Enter`. After Jupyter Notebook opened in your web browser, search for the script on your computer and open it."
   ]
  },
  {
   "cell_type": "markdown",
   "metadata": {},
   "source": [
    "Every cell has to be executed individually. A cell, which is still processing is marked by a `*` and a finished cell with a number. Cells are executed by hitting `Shift + Enter` or by clicking on the run button."
   ]
  },
  {
   "cell_type": "markdown",
   "metadata": {},
   "source": [
    "### Load packages"
   ]
  },
  {
   "cell_type": "code",
   "execution_count": 1,
   "metadata": {
    "collapsed": true
   },
   "outputs": [],
   "source": [
    "from osgeo import gdal\n",
    "import os, osr\n",
    "import numpy as np\n",
    "gdal.UseExceptions()"
   ]
  },
  {
   "cell_type": "code",
   "execution_count": 2,
   "metadata": {
    "collapsed": true
   },
   "outputs": [],
   "source": [
    "import matplotlib.pyplot as plt\n",
    "from matplotlib import colors\n",
    "%matplotlib inline"
   ]
  },
  {
   "cell_type": "code",
   "execution_count": 3,
   "metadata": {
    "collapsed": true
   },
   "outputs": [],
   "source": [
    "# The script creates some warnings due to the NA in the data. They are ignored by executing this cell.\n",
    "import warnings\n",
    "warnings.filterwarnings('ignore')"
   ]
  },
  {
   "cell_type": "markdown",
   "metadata": {},
   "source": [
    "### Set data paths "
   ]
  },
  {
   "cell_type": "markdown",
   "metadata": {},
   "source": [
    "Input data paths: ------------- ### TODO ### -------------"
   ]
  },
  {
   "cell_type": "code",
   "execution_count": 4,
   "metadata": {
    "collapsed": true
   },
   "outputs": [],
   "source": [
    "# Specify the name of your study area\n",
    "studyarea = \"Ghana\""
   ]
  },
  {
   "cell_type": "code",
   "execution_count": 5,
   "metadata": {
    "collapsed": true
   },
   "outputs": [],
   "source": [
    "# Specify the folder path where the EVI geotiffs are stored on your computer or external hard drive.\n",
    "path_d = \"D:/Ghana/evi_data/\"\n",
    "\n",
    "# Specify the folder path where the pixel reliability geotiffs are stored on your computer or external hard drive.\n",
    "path_c = \"D:/Ghana/pixel_reliability\""
   ]
  },
  {
   "cell_type": "markdown",
   "metadata": {},
   "source": [
    "Output data paths: ------------- ### TODO ### -------------"
   ]
  },
  {
   "cell_type": "code",
   "execution_count": 6,
   "metadata": {
    "collapsed": true
   },
   "outputs": [],
   "source": [
    "# Create and specify the folder where the output png-files should be stored\n",
    "path_png = \"D:/Ghana/SVI_maps_Ghana_png\"\n",
    "\n",
    "# Create and specify the folder where the output tif-files should be stored\n",
    "path_tif = \"D:/Ghana/SVI_maps_Ghana_tif\""
   ]
  },
  {
   "cell_type": "markdown",
   "metadata": {},
   "source": [
    "### Start processing"
   ]
  },
  {
   "cell_type": "markdown",
   "metadata": {},
   "source": [
    "In the following cell, a function to write the data as geotiffs is defined. The geo information is extracted from the input data."
   ]
  },
  {
   "cell_type": "code",
   "execution_count": 7,
   "metadata": {
    "collapsed": true
   },
   "outputs": [],
   "source": [
    "def array2raster(newRasterfn,array): \n",
    "\n",
    "    cols = array.shape[1]                                                         # Raeds columns from data array\n",
    "    rows = array.shape[0]                                                         # Reads rows from data array\n",
    "\n",
    "    driver = gdal.GetDriverByName('GTiff')                                        # Sets the driver to Geotiff \n",
    "    outRaster = driver.Create(newRasterfn, cols, rows, 1, gdal.GDT_Float64)       # Creates raster with shape of array as float  \n",
    "    outRaster.SetGeoTransform(expfile.GetGeoTransform())                          # Reads geo information from input file\n",
    "    outband = outRaster.GetRasterBand(1)                                          # Reads band\n",
    "    outband.SetNoDataValue(np.nan)                                                # Sets no data value to NA \n",
    "    outband.WriteArray(array) \n",
    "    outRaster.SetProjection(expfile.GetProjection())                           # Sets the projection according to the  \n",
    "    outband.FlushCache()                                                       # input file projection"
   ]
  },
  {
   "cell_type": "markdown",
   "metadata": {},
   "source": [
    "Within the following cell the Modis files are loaded per DOY (Day of the year), the cloudmask from the pixel reliability dataset  is applied, the EVI data is rescaled, the SVI is calculated and the SVI is written as smaller resolution PNG image and as Geotiff at the according output folders for every file."
   ]
  },
  {
   "cell_type": "markdown",
   "metadata": {},
   "source": [
    "__Note__: The script only works for files with file names according to the AppEEARS products, e.g. `MOD13Q1.006__250m_16_days_EVI_doy2001001_aid0001.tif` as the DOY information is extracted from the file name.\n",
    "\n",
    "__Option__: If you want to use a different product (also geotiffs), you need to adapt the script where `file.split()` is used (three times). There, the files are split at the underscores and the 6th variable is used in this case to extract the DOY from the file name. If the DOY appears at a different position in your file name you need to adapt the number in the first squared brackets after the `file.split()`. Be aware that python uses zero-based indexing, so you need to start counting with zero."
   ]
  },
  {
   "cell_type": "code",
   "execution_count": 9,
   "metadata": {
    "collapsed": true,
    "scrolled": true
   },
   "outputs": [],
   "source": [
    "for day in range(1, 365, 16):  # Creates a list of numbers between 0 and 365\n",
    "    day = str('%0.3d' % day)   # Defines the structure of the list as 001, 002, ... equal to the DOY of the filename\n",
    "    \n",
    "    \n",
    "    # Reading an example file and define the shape of the data arrays\n",
    "    \n",
    "    filelist =[]\n",
    "    \n",
    "    for root, dirs, files in os.walk(path_d):  # Creates a list of files, which include the defined day in their filename\n",
    "         for file in files:                    # for the EVI data  \n",
    "            if file.split(\"_\")[6][7:] == day:\n",
    "                filelist.append(file)\n",
    "                \n",
    "    expfile = gdal.Open(os.path.join(path_d, filelist[0]))  # Gets the first file of the file list as example file\n",
    "    \n",
    "    evi = np.zeros((expfile.RasterYSize, expfile.RasterXSize, len(filelist)))        # Creates 3D numpy arrays according to the \n",
    "    cloudmask = np.zeros((expfile.RasterYSize, expfile.RasterXSize, len(filelist)))  # example file dimensions \n",
    "    \n",
    "    \n",
    "    # Reading the cloudmask for all years \n",
    "    \n",
    "    rellist =[]\n",
    "    for root, dirs, files in os.walk(path_c):  # Creates a list of files, which include the defined day in their filename\n",
    "        for file in files:                     # for the pixel reliability data  \n",
    "            if file.split(\"_\")[7][7:] == day:\n",
    "                rellist.append(file)\n",
    "    \n",
    "    j = 0\n",
    "    for file in rellist:\n",
    "        dataset_c = gdal.Open(os.path.join(path_c, file))    # Opens the file from the pixel reliability file list\n",
    "        band_c = dataset_c.GetRasterBand(1)\n",
    "        data_c = band_c.ReadAsArray()\n",
    "        dataset_c = None\n",
    "        \n",
    "        cloudmask[:,:,j] = data_c                         # Writes the data from each file to the array \n",
    "                                                          # dataset into the pre-defined 3D numpy array  \n",
    "        j += 1\n",
    "        del(data_c, band_c)                               # Deletes intermdiate products\n",
    "    \n",
    "        cloudmask[cloudmask == 0] = 1                     # Exchanges value 0 with value 1 (Pixel with value 0 and 1 are used)\n",
    "        cloudmask[cloudmask == 2] = np.nan                # Sets value 2 to NA (Snow and Ice)\n",
    "        cloudmask[cloudmask == 3] = np.nan                # Sets value 3 to NA (Cloud) \n",
    "        cloudmask[cloudmask == -1] = np.nan               # Sets no data value (= -1) to NA\n",
    "        cloudmask[cloudmask > 3] = np.nan                 # Sets all values above 3 to NA\n",
    "    \n",
    "    \n",
    "    # Reading the EVI  data\n",
    "    \n",
    "    i = 0\n",
    "    for file in filelist:\n",
    "        dataset = gdal.Open(os.path.join(path_d, file))      # Opens the file from the evi file list\n",
    "        band = dataset.GetRasterBand(1)\n",
    "        data = band.ReadAsArray()\n",
    "        dataset = None\n",
    "        \n",
    "        data = data * cloudmask[:,:,i]                    # Applies the cloud mask\n",
    "    \n",
    "        data = data * 0.0001                              # Rescale the data (to float)\n",
    "        data[data == -0.3] = np.nan                       # Sets no data value to NA\n",
    "        data[data < 0] = np.nan                           # Sets negative values to NA    \n",
    "        evi[:,:,i] = data                                 # Writes the data from each file to the array\n",
    "        \n",
    "        i += 1\n",
    "        del(data, band)                                   # Deletes intermediate products\n",
    "\n",
    "    del(cloudmask)\n",
    "    \n",
    "    \n",
    "    # Calculating the SVI\n",
    "    \n",
    "    evimean = np.nanmean(evi, axis=2)                     # Calculates the mean of the array (NA are ignored)   \n",
    "    evisd = np.nanstd(evi, axis=2)                        # Calculates the standard deviation of the array (NA are ignored) \n",
    "    \n",
    "    svi = np.zeros((expfile.RasterYSize, expfile.RasterXSize, len(filelist)))  # Calculate the SVI \n",
    "    for k in range(len(filelist)):\n",
    "        svi[:,:,k] = (evi[:,:,k]-evimean)/evisd\n",
    "    \n",
    "    del(evimean, evisd, evi)                             # Deletes intermediate products \n",
    "    \n",
    "    \n",
    "    \n",
    "    # Creating png images and geotiffs as outputs\n",
    "    \n",
    "    for l in range(len(filelist)):                       # Generates png images for every time step \n",
    "        stdev = np.nanstd(svi[:,:,l])            # Calculates the standard deviation to define the color scheme \n",
    "        stdev2 = 2*stdev\n",
    "        stdev15 = 1.5*stdev\n",
    "        breaks = [-4, -stdev2, -stdev15, -stdev, stdev, stdev15, stdev2, 4]\n",
    "        \n",
    "        dayyear = day+filelist[l].split(\"_\")[6][3:7]     # Defines the day and year of file for the output name of the image\n",
    "        year = filelist[l].split(\"_\")[6][3:7]\n",
    "        \n",
    "        fig, ax = plt.subplots(figsize=(5,5)) # Defines the size of the figure (in inches)\n",
    "        plt.title(\"SVI (EVI) %s\" %dayyear)     \n",
    "        data = svi[:,:,l]\n",
    "        cmap = colors.ListedColormap(['#4C0E0D', '#E72223', '#F19069', '#F9F6C6', '#64B14B', '#04984A', '#00320E'])\n",
    "        bounds = breaks\n",
    "        norm = colors.BoundaryNorm(bounds, cmap.N)\n",
    "        cax = ax.imshow(data, cmap=cmap, norm=norm)\n",
    "        fig.colorbar(cax, cmap=cmap, norm=norm, boundaries=bounds, ticks=breaks)\n",
    "        plt.savefig(os.path.join(path_png, \"SVI_\"+studyarea+\"_\"+str(day)+\"_\"+str(year)+\".png\"), dpi=100)  # Saves png images in \n",
    "        plt.close()                                                                                       # according folder \n",
    "        \n",
    "        \n",
    "        # Generating geotiffs as defined above for every time step\n",
    "    \n",
    "        newRasterfn = os.path.join(path_tif, \"SVI_\"+studyarea+\"_\"+str(day)+\"_\"+str(year)+\".tif\")  # Saves geotiffs in according\n",
    "        array = svi[:,:,l]                                                                        # folder\n",
    "        \n",
    "        array2raster(newRasterfn,array)    # Uses pre-defined function to write geotiffs\n",
    "            \n",
    "    del(svi)    # Deletes SVI"
   ]
  },
  {
   "cell_type": "markdown",
   "metadata": {},
   "source": [
    "***"
   ]
  },
  {
   "cell_type": "markdown",
   "metadata": {},
   "source": [
    "__Note__: Using a large area of interest can lead to troubles with the memory (RAM) of your computer. You can use the Task Manager to keep an eye on the memory usage while running the script. If you encounter problems, consider using a smaller area of interest (shapefile or polygon in AppEEARS) or a satellite product with a smaller resolution (500m (MOD13A1), 1km (MOD13A2))."
   ]
  },
  {
   "cell_type": "markdown",
   "metadata": {},
   "source": [
    "This is an example of the output PNG images. The geotiffs can be read by QGIS, for example, and used to produce maps.\n",
    "![](http://www.un-spider.org/sites/default/files/SVI_Ghana_001_2007.png)"
   ]
  }
 ],
 "metadata": {
  "kernelspec": {
   "display_name": "Python 3",
   "language": "python",
   "name": "python3"
  },
  "language_info": {
   "codemirror_mode": {
    "name": "ipython",
    "version": 3
   },
   "file_extension": ".py",
   "mimetype": "text/x-python",
   "name": "python",
   "nbconvert_exporter": "python",
   "pygments_lexer": "ipython3",
   "version": "3.6.3"
  }
 },
 "nbformat": 4,
 "nbformat_minor": 2
}
