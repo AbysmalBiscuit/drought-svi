{
 "cells": [
  {
   "cell_type": "markdown",
   "metadata": {},
   "source": [
    "## Calculation of the VCI"
   ]
  },
  {
   "cell_type": "markdown",
   "metadata": {},
   "source": [
    "In this example the Vegetation Condition Index (VCI) is calculated from the Enhanced Vegetation Index (EVI) gained from satellite remote sensing data. A MODIS vegetation product (MOD13Q1) with a temporal resolution of 16 days and a spatial resolution of 250m is used (https://lpdaac.usgs.gov/dataset_discovery/modis/modis_products_table/mod13q1). "
   ]
  },
  {
   "cell_type": "markdown",
   "metadata": {},
   "source": [
    "Hit `Shift + Enter` or the run button to execute the cells."
   ]
  },
  {
   "cell_type": "markdown",
   "metadata": {},
   "source": [
    "### Download and install Anaconda 3"
   ]
  },
  {
   "cell_type": "markdown",
   "metadata": {},
   "source": [
    "To run this Jupyter Notebook you need python installed on your computer. We recommend to download and install Anaconda 3 (https://www.anaconda.com/download/) with the python 3.6 version as it includes a lot of usefule packages."
   ]
  },
  {
   "cell_type": "markdown",
   "metadata": {},
   "source": [
    "### Download MODIS data as Geotiffs from AppEEARS"
   ]
  },
  {
   "cell_type": "markdown",
   "metadata": {},
   "source": [
    "Access the AppEEARS website and create a user account (free) for USGS in case you do not already have one. Click on __Extract__ and __Area Sample__ and start a new request."
   ]
  },
  {
   "cell_type": "markdown",
   "metadata": {},
   "source": [
    "![](http://www.un-spider.org/sites/default/files/snap1_adj.PNG)"
   ]
  },
  {
   "cell_type": "markdown",
   "metadata": {},
   "source": [
    "1. Enter a request name. \n",
    "2. Define your region of interest by specifying a __ESRI shapefile__ (zip) or drawing a __polygon__. Country shapefiles can be downloaded at http://www.gadm.org/country.  \n",
    "**Note:** The boundaries and names of the shapefiles do not imply official endorsement or acceptance by the United Nations.\n",
    "3. Define the time period of your data: January __2000__ to __today__\n",
    "4. Select the product: __MOD13Q1__ and the layers of interest: __EVI__ and __pixel_reliability__\n",
    "5. Define the output as __Geotiff__ with __geographic Pojection__\n",
    "6. Click on __Submit__"
   ]
  },
  {
   "cell_type": "markdown",
   "metadata": {},
   "source": [
    "![](http://www.un-spider.org/sites/default/files/snap2_adj.PNG)"
   ]
  },
  {
   "cell_type": "markdown",
   "metadata": {},
   "source": [
    "Click on __Explore__ to check the status of the request. When the status says \"Done\" you can click on the __Download__ symbol. __Select all__ ordered datasets and start downloading the data."
   ]
  },
  {
   "cell_type": "markdown",
   "metadata": {},
   "source": [
    "![](http://www.un-spider.org/sites/default/files/snap3_adj_new.PNG)"
   ]
  },
  {
   "cell_type": "markdown",
   "metadata": {},
   "source": [
    "After the download store the files (.tif) in two folders: one folder for the __evi_data__ and one for the __pixel_reliability__.\n",
    "It is reccomended to use an external hard drive to store your input and output data if possible. \n",
    "![](http://www.un-spider.org/sites/default/files/folders.PNG)"
   ]
  },
  {
   "cell_type": "markdown",
   "metadata": {},
   "source": [
    "### Install packages"
   ]
  },
  {
   "cell_type": "markdown",
   "metadata": {},
   "source": [
    "The modul __gdal__ needs to be installed separately and Bigtiffs must be supported. For that reason it is recommended to install gdal from __conda-forge__ (https://conda-forge.org/) as follows:\n",
    "1. Open the __Anaconda Promt__ by searching for it in the windows start menu.\n",
    "2. Type: `conda install -c conda-forge gdal` and hit `Enter`\n",
    "![](http://www.un-spider.org/sites/default/files/gdal_inst.PNG)\n",
    "3. Type `y` if you are asked if you want to proceed.\n",
    "\n",
    "__Optional__: Create a virtual environment and install the package there if you plan to use python for different projects as some packages might interfere with each other. More information can be found __[here](https://github.com/yy/dviz-course/wiki/Create-and-manage-virtual-environments-with-Anaconda)__."
   ]
  },
  {
   "cell_type": "markdown",
   "metadata": {},
   "source": [
    "### Download this notebook and run it using Jupyter Notebook"
   ]
  },
  {
   "cell_type": "markdown",
   "metadata": {},
   "source": [
    "Download the script (.ipynb) __[here](https://drive.google.com/drive/folders/1iQwiVaLQAuIm435Cli0DkdiubJqsl8X4?usp=sharing)__ and save it on your computer. Start Jupyter Notebook by searching for it in the Windows start menu or by typing `jupyter notebook` in the Anaconda Prompt and hitting `Enter`. After Jupyter Notebook opened in your web browser, search for the script on your computer and open it."
   ]
  },
  {
   "cell_type": "markdown",
   "metadata": {},
   "source": [
    "Every cell has to be executed individually. A cell, which is still processing is marked by a `*` and a finished cell with a number. Cells are executed by hitting `Shift + Enter` or by clicking on the run button."
   ]
  },
  {
   "cell_type": "markdown",
   "metadata": {},
   "source": [
    "### Load packages"
   ]
  },
  {
   "cell_type": "code",
   "execution_count": 1,
   "metadata": {
    "collapsed": true
   },
   "outputs": [],
   "source": [
    "from osgeo import gdal\n",
    "import os, osr\n",
    "import numpy as np\n",
    "gdal.UseExceptions()"
   ]
  },
  {
   "cell_type": "code",
   "execution_count": 2,
   "metadata": {
    "collapsed": true
   },
   "outputs": [],
   "source": [
    "import matplotlib.pyplot as plt\n",
    "from matplotlib import colors\n",
    "%matplotlib inline"
   ]
  },
  {
   "cell_type": "code",
   "execution_count": 3,
   "metadata": {
    "collapsed": true
   },
   "outputs": [],
   "source": [
    "# The script creates some warnings due to the NA \n",
    "# in the data. They are ignored by executing this cell.\n",
    "import warnings\n",
    "warnings.filterwarnings('ignore')"
   ]
  },
  {
   "cell_type": "markdown",
   "metadata": {},
   "source": [
    "### Set data paths "
   ]
  },
  {
   "cell_type": "markdown",
   "metadata": {},
   "source": [
    "Input data paths: ------------- ### TODO ### -------------"
   ]
  },
  {
   "cell_type": "code",
   "execution_count": 4,
   "metadata": {
    "collapsed": true
   },
   "outputs": [],
   "source": [
    "# Specify the name of your study area\n",
    "studyarea = \"Ghana\""
   ]
  },
  {
   "cell_type": "code",
   "execution_count": 5,
   "metadata": {
    "collapsed": true
   },
   "outputs": [],
   "source": [
    "# Specify the folder path where the EVI geotiffs\n",
    "# are stored on your computer or external hard drive.\n",
    "path_d = \"D:/Ghana/evi_data/\"\n",
    "\n",
    "# Specify the folder path where the pixel reliability \n",
    "# geotiffs are stored on your computer or external hard drive.\n",
    "path_c = \"D:/Ghana/pixel_reliability\""
   ]
  },
  {
   "cell_type": "markdown",
   "metadata": {},
   "source": [
    "Output data paths: ------------- ### TODO ### -------------"
   ]
  },
  {
   "cell_type": "code",
   "execution_count": 6,
   "metadata": {
    "collapsed": true
   },
   "outputs": [],
   "source": [
    "# Create and specify the folder where the output \n",
    "# png-files should be stored\n",
    "path_png = \"D:/Ghana/VCI_maps_Ghana_png\"\n",
    "\n",
    "# Create and specify the folder where the output\n",
    "# tif-files should be stored\n",
    "path_tif = \"D:/Ghana/VCI_maps_Ghana_tif\""
   ]
  },
  {
   "cell_type": "markdown",
   "metadata": {},
   "source": [
    "### Start processing"
   ]
  },
  {
   "cell_type": "markdown",
   "metadata": {},
   "source": [
    "In the following cell, a function to write the data as geotiffs is defined. The geo information is extracted from the input data."
   ]
  },
  {
   "cell_type": "code",
   "execution_count": 7,
   "metadata": {
    "collapsed": true
   },
   "outputs": [],
   "source": [
    "def array2raster(newRasterfn,array): \n",
    "\n",
    "    # Read columns from data array\n",
    "    cols = array.shape[1]\n",
    "    # Read rows from data array\n",
    "    rows = array.shape[0]                                                         \n",
    "\n",
    "    # Set the driver to Geotiff \n",
    "    driver = gdal.GetDriverByName('GTiff')                                        \n",
    "    # Create raster with shape of array as float\n",
    "    outRaster = driver.Create(newRasterfn, cols, rows, 1, gdal.GDT_Float64)         \n",
    "    # Read geo information from input file\n",
    "    outRaster.SetGeoTransform(expfile.GetGeoTransform())                          \n",
    "    # Read band\n",
    "    outband = outRaster.GetRasterBand(1)                                          \n",
    "    # Set no data value to NA\n",
    "    outband.SetNoDataValue(np.nan)                                                 \n",
    "    outband.WriteArray(array) \n",
    "    # Set the projection according to the\n",
    "    # input file projection\n",
    "    outRaster.SetProjection(expfile.GetProjection())                             \n",
    "    outband.FlushCache()                                                       "
   ]
  },
  {
   "cell_type": "markdown",
   "metadata": {},
   "source": [
    "Within the following cell the Modis files are loaded per DOY (Day of the year), the cloudmask from the pixel reliability dataset  is applied, the EVI data is rescaled, the SVI is calculated and the SVI is written as smaller resolution PNG image and as Geotiff at the according output folders for every file."
   ]
  },
  {
   "cell_type": "markdown",
   "metadata": {},
   "source": [
    "__Note__: The script only works for files with file names according to the AppEEARS products, e.g. `MOD13Q1.006__250m_16_days_EVI_doy2001001_aid0001.tif` as the DOY information is extracted from the file name.\n",
    "\n",
    "__Option__: If you want to use a different product (also geotiffs), you need to adapt the script where `file.split()` is used (three times). There, the files are split at the underscores and the 6th variable is used in this case to extract the DOY from the file name. If the DOY appears at a different position in your file name you need to adapt the number in the first squared brackets after the `file.split()`. Be aware that python uses zero-based indexing, so you need to start counting with zero."
   ]
  },
  {
   "cell_type": "code",
   "execution_count": 14,
   "metadata": {
    "collapsed": true,
    "scrolled": true
   },
   "outputs": [],
   "source": [
    "# Create a list of numbers between 0 and 365\n",
    "# Define the structure of the list as 001, 002, ... \n",
    "# equal to the DOY of the filename\n",
    "for day in range(1, 365, 16):  \n",
    "    day = str('%0.3d' % day)   \n",
    "    \n",
    "    \n",
    "    # Reading an example file and \n",
    "    # define the shape of the data arrays\n",
    "    \n",
    "    filelist =[]\n",
    "    \n",
    "    # Create a list of files, which include the \n",
    "    # defined day in their filename for the EVI data\n",
    "    for root, dirs, files in os.walk(path_d):  \n",
    "         for file in files:                      \n",
    "            if file.split(\"_\")[6][7:] == day:\n",
    "                filelist.append(file)\n",
    "                \n",
    "    # Read the first file of the file list as example file\n",
    "    expfile = gdal.Open(os.path.join(path_d, filelist[0]))  \n",
    "    \n",
    "    # Create 3D numpy arrays according to the\n",
    "    # example file dimensions\n",
    "    evi = np.zeros((expfile.RasterYSize, expfile.RasterXSize, len(filelist)))         \n",
    "    cloudmask = np.zeros((expfile.RasterYSize, expfile.RasterXSize, len(filelist)))   \n",
    "    \n",
    "    \n",
    "    # Read the cloudmask for all years \n",
    "    \n",
    "    rellist =[]\n",
    "    # Creates a list of files, which include the \n",
    "    # defined day in their filename # for the pixel reliability data\n",
    "    for root, dirs, files in os.walk(path_c):  \n",
    "        for file in files:                       \n",
    "            if file.split(\"_\")[7][7:] == day:\n",
    "                rellist.append(file)\n",
    "    \n",
    "    j = 0\n",
    "    for file in rellist:\n",
    "        \n",
    "        # Open the file from the pixel reliability file list\n",
    "        dataset_c = gdal.Open(os.path.join(path_c, file))    \n",
    "        band_c = dataset_c.GetRasterBand(1)\n",
    "        data_c = band_c.ReadAsArray()\n",
    "        dataset_c = None\n",
    "        \n",
    "        # Write the data from each file to the array\n",
    "        # dataset into the pre-defined 3D numpy array\n",
    "        cloudmask[:,:,j] = data_c                         \n",
    "                                                            \n",
    "        j += 1\n",
    "        \n",
    "        # Delete intermdiate products\n",
    "        del(data_c, band_c)                               \n",
    "    \n",
    "        # Exchange value 0 with value 1 (Pixel with value 0 and 1 are used)\n",
    "        cloudmask[cloudmask == 0] = 1                     \n",
    "        \n",
    "        # Set value 2 to NA (Snow and Ice)\n",
    "        cloudmask[cloudmask == 2] = np.nan                \n",
    "        \n",
    "        # Set value 3 to NA (Cloud)\n",
    "        cloudmask[cloudmask == 3] = np.nan                 \n",
    "        \n",
    "        # Set no data value (= -1) to NA\n",
    "        cloudmask[cloudmask == -1] = np.nan              \n",
    "        \n",
    "        # Set all values above 3 to NA\n",
    "        cloudmask[cloudmask > 3] = np.nan                 \n",
    "    \n",
    "    \n",
    "    # Reading the EVI data\n",
    "    \n",
    "    i = 0\n",
    "    for file in filelist:\n",
    "        \n",
    "        # Open the file from the evi file list\n",
    "        dataset = gdal.Open(os.path.join(path_d, file))      \n",
    "        band = dataset.GetRasterBand(1)\n",
    "        data = band.ReadAsArray()\n",
    "        dataset = None\n",
    "        \n",
    "        # Apply the cloud mask\n",
    "        data = data * cloudmask[:,:,i]                    \n",
    "    \n",
    "        # Rescale the data (to float)\n",
    "        data = data * 0.0001                              \n",
    "        \n",
    "        # Set no data value to NA\n",
    "        data[data == -0.3] = np.nan                       \n",
    "        \n",
    "        # Set negative values to NA\n",
    "        data[data < 0] = np.nan                               \n",
    "        \n",
    "        # Write the data from each file to the array\n",
    "        evi[:,:,i] = data                                 \n",
    "        \n",
    "        i += 1\n",
    "        \n",
    "        # Delete intermediate products\n",
    "        del(data, band)                                   \n",
    "\n",
    "    del(cloudmask)\n",
    "    \n",
    "    \n",
    "    # Calculating the VCI\n",
    "    \n",
    "    # Calculate the mean of the \n",
    "    # array (NA are ignored)\n",
    "    evimin = np.nanmin(evi, axis=2)                        \n",
    "    \n",
    "    # Calculate the standard deviation \n",
    "    # of the array (NA are ignored)\n",
    "    evimax = np.nanmax(evi, axis=2)                      \n",
    "    \n",
    "    # Calculate the VCI\n",
    "    vci = np.zeros((expfile.RasterYSize, expfile.RasterXSize, len(filelist)))   \n",
    "    for k in range(len(filelist)):\n",
    "        vci[:,:,k] = ((evi[:,:,k]-evimin)/(evimax-evimin))*100\n",
    "    \n",
    "    # Delete intermediate products\n",
    "    del(evimin, evimax, evi)                              \n",
    "    \n",
    "    \n",
    "    \n",
    "    # Creating png images and geotiffs as outputs\n",
    "    \n",
    "    # Generate png images for every time step\n",
    "    for l in range(len(filelist)):                        \n",
    "        \n",
    "        # Define the day and year of file for the output name of the image\n",
    "        dayyear = day+filelist[l].split(\"_\")[6][3:7]     \n",
    "        year = filelist[l].split(\"_\")[6][3:7]\n",
    "        \n",
    "        # Define the size of the figure (in inches)\n",
    "        fig, ax = plt.subplots(figsize=(5,5))  \n",
    "        plt.title(\"VCI (EVI) %s\" %dayyear)     \n",
    "        data = vci[:,:,l]\n",
    "        \n",
    "        # Define the colors\n",
    "        cmap = colors.ListedColormap(['#8B0000', '#FF4500', '#FFFF00', '#9ACD32', '#008000'])  \n",
    "        cax = ax.imshow(data, cmap=cmap)\n",
    "        fig.colorbar(cax, cmap=cmap)\n",
    "        \n",
    "        # Save png images in\n",
    "        # related folder\n",
    "        plt.savefig(os.path.join(path_png, \"VCI_\"+studyarea+\"_\"+str(day)+\"_\"+str(year)+\".png\"), dpi=100)   \n",
    "        plt.close()                                                                                        \n",
    "        \n",
    "        \n",
    "        # Generating geotiffs as defined \n",
    "        # above for every time step\n",
    "    \n",
    "        # Save geotiffs related\n",
    "        # folder\n",
    "        newRasterfn = os.path.join(path_tif, \"VCI_\"+studyarea+\"_\"+str(day)+\"_\"+str(year)+\".tif\")  \n",
    "        array = vci[:,:,l]                                                                        \n",
    "        \n",
    "        # Use pre-defined function to write geotiffs\n",
    "        array2raster(newRasterfn,array)    \n",
    "            \n",
    "    del(vci)    # Delete VCI"
   ]
  },
  {
   "cell_type": "markdown",
   "metadata": {},
   "source": [
    "***"
   ]
  },
  {
   "cell_type": "markdown",
   "metadata": {},
   "source": [
    "__Note__: Using a large area of interest can lead to troubles with the memory (RAM) of your computer. You can use the Task Manager to keep an eye on the memory usage while running the script. If you encounter problems, consider using a smaller area of interest (shapefile or polygon in AppEEARS) or a satellite product with a smaller resolution (500m (MOD13A1), 1km (MOD13A2))."
   ]
  },
  {
   "cell_type": "markdown",
   "metadata": {},
   "source": [
    "This is an example of the output PNG images. The geotiffs can be read by QGIS, for example, and used to produce maps.\n",
    "![](http://www.un-spider.org/sites/default/files/VCI_Ghana_001_2007.png)"
   ]
  }
 ],
 "metadata": {
  "kernelspec": {
   "display_name": "Python 3",
   "language": "python",
   "name": "python3"
  },
  "language_info": {
   "codemirror_mode": {
    "name": "ipython",
    "version": 3
   },
   "file_extension": ".py",
   "mimetype": "text/x-python",
   "name": "python",
   "nbconvert_exporter": "python",
   "pygments_lexer": "ipython3",
   "version": "3.6.3"
  }
 },
 "nbformat": 4,
 "nbformat_minor": 2
}
